{
 "cells": [
  {
   "cell_type": "code",
   "execution_count": 32,
   "id": "initial_id",
   "metadata": {
    "ExecuteTime": {
     "end_time": "2024-02-06T06:51:01.085812152Z",
     "start_time": "2024-02-06T06:51:00.548396635Z"
    }
   },
   "outputs": [],
   "source": [
    "import pandas as pd\n",
    "import numpy as np"
   ]
  },
  {
   "cell_type": "code",
   "execution_count": 33,
   "id": "3f00fdf87918c24f",
   "metadata": {
    "ExecuteTime": {
     "end_time": "2024-02-06T06:51:01.208244704Z",
     "start_time": "2024-02-06T06:51:01.083424853Z"
    }
   },
   "outputs": [
    {
     "data": {
      "text/html": [
       "<div>\n",
       "<style scoped>\n",
       "    .dataframe tbody tr th:only-of-type {\n",
       "        vertical-align: middle;\n",
       "    }\n",
       "\n",
       "    .dataframe tbody tr th {\n",
       "        vertical-align: top;\n",
       "    }\n",
       "\n",
       "    .dataframe thead th {\n",
       "        text-align: right;\n",
       "    }\n",
       "</style>\n",
       "<table border=\"1\" class=\"dataframe\">\n",
       "  <thead>\n",
       "    <tr style=\"text-align: right;\">\n",
       "      <th></th>\n",
       "      <th>Province/State</th>\n",
       "      <th>Country/Region</th>\n",
       "      <th>Lat</th>\n",
       "      <th>Long</th>\n",
       "      <th>1/22/2020</th>\n",
       "      <th>1/23/2020</th>\n",
       "      <th>1/24/2020</th>\n",
       "      <th>1/25/2020</th>\n",
       "      <th>1/26/2020</th>\n",
       "      <th>1/27/2020</th>\n",
       "      <th>...</th>\n",
       "      <th>2/28/2023</th>\n",
       "      <th>3/1/2023</th>\n",
       "      <th>3/2/2023</th>\n",
       "      <th>3/3/2023</th>\n",
       "      <th>3/4/2023</th>\n",
       "      <th>3/5/2023</th>\n",
       "      <th>3/6/2023</th>\n",
       "      <th>3/7/2023</th>\n",
       "      <th>3/8/2023</th>\n",
       "      <th>3/9/2023</th>\n",
       "    </tr>\n",
       "  </thead>\n",
       "  <tbody>\n",
       "    <tr>\n",
       "      <th>0</th>\n",
       "      <td>NaN</td>\n",
       "      <td>Afghanistan</td>\n",
       "      <td>33.93911</td>\n",
       "      <td>67.709953</td>\n",
       "      <td>0</td>\n",
       "      <td>0</td>\n",
       "      <td>0</td>\n",
       "      <td>0</td>\n",
       "      <td>0</td>\n",
       "      <td>0</td>\n",
       "      <td>...</td>\n",
       "      <td>209322</td>\n",
       "      <td>209340</td>\n",
       "      <td>209358</td>\n",
       "      <td>209362</td>\n",
       "      <td>209369</td>\n",
       "      <td>209390</td>\n",
       "      <td>209406</td>\n",
       "      <td>209436</td>\n",
       "      <td>209451</td>\n",
       "      <td>209451</td>\n",
       "    </tr>\n",
       "    <tr>\n",
       "      <th>1</th>\n",
       "      <td>NaN</td>\n",
       "      <td>Albania</td>\n",
       "      <td>41.15330</td>\n",
       "      <td>20.168300</td>\n",
       "      <td>0</td>\n",
       "      <td>0</td>\n",
       "      <td>0</td>\n",
       "      <td>0</td>\n",
       "      <td>0</td>\n",
       "      <td>0</td>\n",
       "      <td>...</td>\n",
       "      <td>334391</td>\n",
       "      <td>334408</td>\n",
       "      <td>334408</td>\n",
       "      <td>334427</td>\n",
       "      <td>334427</td>\n",
       "      <td>334427</td>\n",
       "      <td>334427</td>\n",
       "      <td>334427</td>\n",
       "      <td>334443</td>\n",
       "      <td>334457</td>\n",
       "    </tr>\n",
       "    <tr>\n",
       "      <th>2</th>\n",
       "      <td>NaN</td>\n",
       "      <td>Algeria</td>\n",
       "      <td>28.03390</td>\n",
       "      <td>1.659600</td>\n",
       "      <td>0</td>\n",
       "      <td>0</td>\n",
       "      <td>0</td>\n",
       "      <td>0</td>\n",
       "      <td>0</td>\n",
       "      <td>0</td>\n",
       "      <td>...</td>\n",
       "      <td>271441</td>\n",
       "      <td>271448</td>\n",
       "      <td>271463</td>\n",
       "      <td>271469</td>\n",
       "      <td>271469</td>\n",
       "      <td>271477</td>\n",
       "      <td>271477</td>\n",
       "      <td>271490</td>\n",
       "      <td>271494</td>\n",
       "      <td>271496</td>\n",
       "    </tr>\n",
       "    <tr>\n",
       "      <th>3</th>\n",
       "      <td>NaN</td>\n",
       "      <td>Andorra</td>\n",
       "      <td>42.50630</td>\n",
       "      <td>1.521800</td>\n",
       "      <td>0</td>\n",
       "      <td>0</td>\n",
       "      <td>0</td>\n",
       "      <td>0</td>\n",
       "      <td>0</td>\n",
       "      <td>0</td>\n",
       "      <td>...</td>\n",
       "      <td>47866</td>\n",
       "      <td>47875</td>\n",
       "      <td>47875</td>\n",
       "      <td>47875</td>\n",
       "      <td>47875</td>\n",
       "      <td>47875</td>\n",
       "      <td>47875</td>\n",
       "      <td>47875</td>\n",
       "      <td>47890</td>\n",
       "      <td>47890</td>\n",
       "    </tr>\n",
       "    <tr>\n",
       "      <th>4</th>\n",
       "      <td>NaN</td>\n",
       "      <td>Angola</td>\n",
       "      <td>-11.20270</td>\n",
       "      <td>17.873900</td>\n",
       "      <td>0</td>\n",
       "      <td>0</td>\n",
       "      <td>0</td>\n",
       "      <td>0</td>\n",
       "      <td>0</td>\n",
       "      <td>0</td>\n",
       "      <td>...</td>\n",
       "      <td>105255</td>\n",
       "      <td>105277</td>\n",
       "      <td>105277</td>\n",
       "      <td>105277</td>\n",
       "      <td>105277</td>\n",
       "      <td>105277</td>\n",
       "      <td>105277</td>\n",
       "      <td>105277</td>\n",
       "      <td>105288</td>\n",
       "      <td>105288</td>\n",
       "    </tr>\n",
       "  </tbody>\n",
       "</table>\n",
       "<p>5 rows × 1147 columns</p>\n",
       "</div>"
      ],
      "text/plain": [
       "  Province/State Country/Region       Lat       Long  1/22/2020  1/23/2020  \\\n",
       "0            NaN    Afghanistan  33.93911  67.709953          0          0   \n",
       "1            NaN        Albania  41.15330  20.168300          0          0   \n",
       "2            NaN        Algeria  28.03390   1.659600          0          0   \n",
       "3            NaN        Andorra  42.50630   1.521800          0          0   \n",
       "4            NaN         Angola -11.20270  17.873900          0          0   \n",
       "\n",
       "   1/24/2020  1/25/2020  1/26/2020  1/27/2020  ...  2/28/2023  3/1/2023  \\\n",
       "0          0          0          0          0  ...     209322    209340   \n",
       "1          0          0          0          0  ...     334391    334408   \n",
       "2          0          0          0          0  ...     271441    271448   \n",
       "3          0          0          0          0  ...      47866     47875   \n",
       "4          0          0          0          0  ...     105255    105277   \n",
       "\n",
       "   3/2/2023  3/3/2023  3/4/2023  3/5/2023  3/6/2023  3/7/2023  3/8/2023  \\\n",
       "0    209358    209362    209369    209390    209406    209436    209451   \n",
       "1    334408    334427    334427    334427    334427    334427    334443   \n",
       "2    271463    271469    271469    271477    271477    271490    271494   \n",
       "3     47875     47875     47875     47875     47875     47875     47890   \n",
       "4    105277    105277    105277    105277    105277    105277    105288   \n",
       "\n",
       "   3/9/2023  \n",
       "0    209451  \n",
       "1    334457  \n",
       "2    271496  \n",
       "3     47890  \n",
       "4    105288  \n",
       "\n",
       "[5 rows x 1147 columns]"
      ]
     },
     "execution_count": 33,
     "metadata": {},
     "output_type": "execute_result"
    }
   ],
   "source": [
    "df = pd.read_csv(\"covid19.csv\")\n",
    "df.head()"
   ]
  },
  {
   "cell_type": "code",
   "execution_count": 34,
   "id": "703c5d4335864aea",
   "metadata": {
    "ExecuteTime": {
     "end_time": "2024-02-06T06:51:01.211932164Z",
     "start_time": "2024-02-06T06:51:01.203190245Z"
    }
   },
   "outputs": [
    {
     "data": {
      "text/plain": [
       "Index(['Province/State', 'Country/Region', 'Lat', 'Long', '1/22/2020',\n",
       "       '1/23/2020', '1/24/2020', '1/25/2020', '1/26/2020', '1/27/2020',\n",
       "       ...\n",
       "       '2/28/2023', '3/1/2023', '3/2/2023', '3/3/2023', '3/4/2023', '3/5/2023',\n",
       "       '3/6/2023', '3/7/2023', '3/8/2023', '3/9/2023'],\n",
       "      dtype='object', length=1147)"
      ]
     },
     "execution_count": 34,
     "metadata": {},
     "output_type": "execute_result"
    }
   ],
   "source": [
    "df.columns"
   ]
  },
  {
   "cell_type": "code",
   "execution_count": 35,
   "id": "47c5822a792aa186",
   "metadata": {
    "ExecuteTime": {
     "end_time": "2024-02-06T06:51:01.286517409Z",
     "start_time": "2024-02-06T06:51:01.208319395Z"
    }
   },
   "outputs": [],
   "source": [
    "# columns to keep\n",
    "columns_to_keep = [\"Country/Region\"]+ list(df.columns)[4:]"
   ]
  },
  {
   "cell_type": "code",
   "execution_count": 36,
   "id": "3781c4825d8d626b",
   "metadata": {
    "ExecuteTime": {
     "end_time": "2024-02-06T06:51:01.382542535Z",
     "start_time": "2024-02-06T06:51:01.235896158Z"
    }
   },
   "outputs": [
    {
     "data": {
      "text/html": [
       "<div>\n",
       "<style scoped>\n",
       "    .dataframe tbody tr th:only-of-type {\n",
       "        vertical-align: middle;\n",
       "    }\n",
       "\n",
       "    .dataframe tbody tr th {\n",
       "        vertical-align: top;\n",
       "    }\n",
       "\n",
       "    .dataframe thead th {\n",
       "        text-align: right;\n",
       "    }\n",
       "</style>\n",
       "<table border=\"1\" class=\"dataframe\">\n",
       "  <thead>\n",
       "    <tr style=\"text-align: right;\">\n",
       "      <th></th>\n",
       "      <th>Country/Region</th>\n",
       "      <th>1/22/2020</th>\n",
       "      <th>1/23/2020</th>\n",
       "      <th>1/24/2020</th>\n",
       "      <th>1/25/2020</th>\n",
       "      <th>1/26/2020</th>\n",
       "      <th>1/27/2020</th>\n",
       "      <th>1/28/2020</th>\n",
       "      <th>1/29/2020</th>\n",
       "      <th>1/30/2020</th>\n",
       "      <th>...</th>\n",
       "      <th>2/28/2023</th>\n",
       "      <th>3/1/2023</th>\n",
       "      <th>3/2/2023</th>\n",
       "      <th>3/3/2023</th>\n",
       "      <th>3/4/2023</th>\n",
       "      <th>3/5/2023</th>\n",
       "      <th>3/6/2023</th>\n",
       "      <th>3/7/2023</th>\n",
       "      <th>3/8/2023</th>\n",
       "      <th>3/9/2023</th>\n",
       "    </tr>\n",
       "  </thead>\n",
       "  <tbody>\n",
       "    <tr>\n",
       "      <th>0</th>\n",
       "      <td>Afghanistan</td>\n",
       "      <td>0</td>\n",
       "      <td>0</td>\n",
       "      <td>0</td>\n",
       "      <td>0</td>\n",
       "      <td>0</td>\n",
       "      <td>0</td>\n",
       "      <td>0</td>\n",
       "      <td>0</td>\n",
       "      <td>0</td>\n",
       "      <td>...</td>\n",
       "      <td>209322</td>\n",
       "      <td>209340</td>\n",
       "      <td>209358</td>\n",
       "      <td>209362</td>\n",
       "      <td>209369</td>\n",
       "      <td>209390</td>\n",
       "      <td>209406</td>\n",
       "      <td>209436</td>\n",
       "      <td>209451</td>\n",
       "      <td>209451</td>\n",
       "    </tr>\n",
       "    <tr>\n",
       "      <th>1</th>\n",
       "      <td>Albania</td>\n",
       "      <td>0</td>\n",
       "      <td>0</td>\n",
       "      <td>0</td>\n",
       "      <td>0</td>\n",
       "      <td>0</td>\n",
       "      <td>0</td>\n",
       "      <td>0</td>\n",
       "      <td>0</td>\n",
       "      <td>0</td>\n",
       "      <td>...</td>\n",
       "      <td>334391</td>\n",
       "      <td>334408</td>\n",
       "      <td>334408</td>\n",
       "      <td>334427</td>\n",
       "      <td>334427</td>\n",
       "      <td>334427</td>\n",
       "      <td>334427</td>\n",
       "      <td>334427</td>\n",
       "      <td>334443</td>\n",
       "      <td>334457</td>\n",
       "    </tr>\n",
       "    <tr>\n",
       "      <th>2</th>\n",
       "      <td>Algeria</td>\n",
       "      <td>0</td>\n",
       "      <td>0</td>\n",
       "      <td>0</td>\n",
       "      <td>0</td>\n",
       "      <td>0</td>\n",
       "      <td>0</td>\n",
       "      <td>0</td>\n",
       "      <td>0</td>\n",
       "      <td>0</td>\n",
       "      <td>...</td>\n",
       "      <td>271441</td>\n",
       "      <td>271448</td>\n",
       "      <td>271463</td>\n",
       "      <td>271469</td>\n",
       "      <td>271469</td>\n",
       "      <td>271477</td>\n",
       "      <td>271477</td>\n",
       "      <td>271490</td>\n",
       "      <td>271494</td>\n",
       "      <td>271496</td>\n",
       "    </tr>\n",
       "    <tr>\n",
       "      <th>3</th>\n",
       "      <td>Andorra</td>\n",
       "      <td>0</td>\n",
       "      <td>0</td>\n",
       "      <td>0</td>\n",
       "      <td>0</td>\n",
       "      <td>0</td>\n",
       "      <td>0</td>\n",
       "      <td>0</td>\n",
       "      <td>0</td>\n",
       "      <td>0</td>\n",
       "      <td>...</td>\n",
       "      <td>47866</td>\n",
       "      <td>47875</td>\n",
       "      <td>47875</td>\n",
       "      <td>47875</td>\n",
       "      <td>47875</td>\n",
       "      <td>47875</td>\n",
       "      <td>47875</td>\n",
       "      <td>47875</td>\n",
       "      <td>47890</td>\n",
       "      <td>47890</td>\n",
       "    </tr>\n",
       "    <tr>\n",
       "      <th>4</th>\n",
       "      <td>Angola</td>\n",
       "      <td>0</td>\n",
       "      <td>0</td>\n",
       "      <td>0</td>\n",
       "      <td>0</td>\n",
       "      <td>0</td>\n",
       "      <td>0</td>\n",
       "      <td>0</td>\n",
       "      <td>0</td>\n",
       "      <td>0</td>\n",
       "      <td>...</td>\n",
       "      <td>105255</td>\n",
       "      <td>105277</td>\n",
       "      <td>105277</td>\n",
       "      <td>105277</td>\n",
       "      <td>105277</td>\n",
       "      <td>105277</td>\n",
       "      <td>105277</td>\n",
       "      <td>105277</td>\n",
       "      <td>105288</td>\n",
       "      <td>105288</td>\n",
       "    </tr>\n",
       "  </tbody>\n",
       "</table>\n",
       "<p>5 rows × 1144 columns</p>\n",
       "</div>"
      ],
      "text/plain": [
       "  Country/Region  1/22/2020  1/23/2020  1/24/2020  1/25/2020  1/26/2020  \\\n",
       "0    Afghanistan          0          0          0          0          0   \n",
       "1        Albania          0          0          0          0          0   \n",
       "2        Algeria          0          0          0          0          0   \n",
       "3        Andorra          0          0          0          0          0   \n",
       "4         Angola          0          0          0          0          0   \n",
       "\n",
       "   1/27/2020  1/28/2020  1/29/2020  1/30/2020  ...  2/28/2023  3/1/2023  \\\n",
       "0          0          0          0          0  ...     209322    209340   \n",
       "1          0          0          0          0  ...     334391    334408   \n",
       "2          0          0          0          0  ...     271441    271448   \n",
       "3          0          0          0          0  ...      47866     47875   \n",
       "4          0          0          0          0  ...     105255    105277   \n",
       "\n",
       "   3/2/2023  3/3/2023  3/4/2023  3/5/2023  3/6/2023  3/7/2023  3/8/2023  \\\n",
       "0    209358    209362    209369    209390    209406    209436    209451   \n",
       "1    334408    334427    334427    334427    334427    334427    334443   \n",
       "2    271463    271469    271469    271477    271477    271490    271494   \n",
       "3     47875     47875     47875     47875     47875     47875     47890   \n",
       "4    105277    105277    105277    105277    105277    105277    105288   \n",
       "\n",
       "   3/9/2023  \n",
       "0    209451  \n",
       "1    334457  \n",
       "2    271496  \n",
       "3     47890  \n",
       "4    105288  \n",
       "\n",
       "[5 rows x 1144 columns]"
      ]
     },
     "execution_count": 36,
     "metadata": {},
     "output_type": "execute_result"
    }
   ],
   "source": [
    "w_df = df[columns_to_keep]\n",
    "w_df.head()"
   ]
  },
  {
   "cell_type": "code",
   "execution_count": 37,
   "id": "403403a98db2fb9",
   "metadata": {
    "ExecuteTime": {
     "end_time": "2024-02-06T06:51:17.306072580Z",
     "start_time": "2024-02-06T06:51:17.095406562Z"
    }
   },
   "outputs": [
    {
     "name": "stdout",
     "output_type": "stream",
     "text": [
      "Afghanistan\n",
      "Albania\n",
      "Algeria\n",
      "Andorra\n",
      "Angola\n",
      "Antarctica\n",
      "Antigua and Barbuda\n",
      "Argentina\n",
      "Armenia\n",
      "Australia\n",
      "Australia\n",
      "Australia\n",
      "Australia\n",
      "Australia\n",
      "Australia\n",
      "Australia\n",
      "Australia\n",
      "Austria\n",
      "Azerbaijan\n",
      "Bahamas\n",
      "Bahrain\n",
      "Bangladesh\n",
      "Barbados\n",
      "Belarus\n",
      "Belgium\n",
      "Belize\n",
      "Benin\n",
      "Bhutan\n",
      "Bolivia\n",
      "Bosnia and Herzegovina\n",
      "Botswana\n",
      "Brazil\n",
      "Brunei\n",
      "Bulgaria\n",
      "Burkina Faso\n",
      "Burma\n",
      "Burundi\n",
      "Cabo Verde\n",
      "Cambodia\n",
      "Cameroon\n",
      "Canada\n",
      "Canada\n",
      "Canada\n",
      "Canada\n",
      "Canada\n",
      "Canada\n",
      "Canada\n",
      "Canada\n",
      "Canada\n",
      "Canada\n",
      "Canada\n",
      "Canada\n",
      "Canada\n",
      "Canada\n",
      "Canada\n",
      "Canada\n",
      "Central African Republic\n",
      "Chad\n",
      "Chile\n",
      "China\n",
      "China\n",
      "China\n",
      "China\n",
      "China\n",
      "China\n",
      "China\n",
      "China\n",
      "China\n",
      "China\n",
      "China\n",
      "China\n",
      "China\n",
      "China\n",
      "China\n",
      "China\n",
      "China\n",
      "China\n",
      "China\n",
      "China\n",
      "China\n",
      "China\n",
      "China\n",
      "China\n",
      "China\n",
      "China\n",
      "China\n",
      "China\n",
      "China\n",
      "China\n",
      "China\n",
      "China\n",
      "China\n",
      "China\n",
      "Colombia\n",
      "Comoros\n",
      "Congo (Brazzaville)\n",
      "Congo (Kinshasa)\n",
      "Costa Rica\n",
      "Cote d'Ivoire\n",
      "Croatia\n",
      "Cuba\n",
      "Cyprus\n",
      "Czechia\n",
      "Denmark\n",
      "Denmark\n",
      "Denmark\n",
      "Diamond Princess\n",
      "Djibouti\n",
      "Dominica\n",
      "Dominican Republic\n",
      "Ecuador\n",
      "Egypt\n",
      "El Salvador\n",
      "Equatorial Guinea\n",
      "Eritrea\n",
      "Estonia\n",
      "Eswatini\n",
      "Ethiopia\n",
      "Fiji\n",
      "Finland\n",
      "France\n",
      "France\n",
      "France\n",
      "France\n",
      "France\n",
      "France\n",
      "France\n",
      "France\n",
      "France\n",
      "France\n",
      "France\n",
      "France\n",
      "Gabon\n",
      "Gambia\n",
      "Georgia\n",
      "Germany\n",
      "Ghana\n",
      "Greece\n",
      "Grenada\n",
      "Guatemala\n",
      "Guinea\n",
      "Guinea-Bissau\n",
      "Guyana\n",
      "Haiti\n",
      "Holy See\n",
      "Honduras\n",
      "Hungary\n",
      "Iceland\n",
      "India\n",
      "Indonesia\n",
      "Iran\n",
      "Iraq\n",
      "Ireland\n",
      "Israel\n",
      "Italy\n",
      "Jamaica\n",
      "Japan\n",
      "Jordan\n",
      "Kazakhstan\n",
      "Kenya\n",
      "Kiribati\n",
      "Korea, North\n",
      "Korea, South\n",
      "Kosovo\n",
      "Kuwait\n",
      "Kyrgyzstan\n",
      "Laos\n",
      "Latvia\n",
      "Lebanon\n",
      "Lesotho\n",
      "Liberia\n",
      "Libya\n",
      "Liechtenstein\n",
      "Lithuania\n",
      "Luxembourg\n",
      "MS Zaandam\n",
      "Madagascar\n",
      "Malawi\n",
      "Malaysia\n",
      "Maldives\n",
      "Mali\n",
      "Malta\n",
      "Marshall Islands\n",
      "Mauritania\n",
      "Mauritius\n",
      "Mexico\n",
      "Micronesia\n",
      "Moldova\n",
      "Monaco\n",
      "Mongolia\n",
      "Montenegro\n",
      "Morocco\n",
      "Mozambique\n",
      "Namibia\n",
      "Nauru\n",
      "Nepal\n",
      "Netherlands\n",
      "Netherlands\n",
      "Netherlands\n",
      "Netherlands\n",
      "Netherlands\n",
      "New Zealand\n",
      "New Zealand\n",
      "New Zealand\n",
      "Nicaragua\n",
      "Niger\n",
      "Nigeria\n",
      "North Macedonia\n",
      "Norway\n",
      "Oman\n",
      "Pakistan\n",
      "Palau\n",
      "Panama\n",
      "Papua New Guinea\n",
      "Paraguay\n",
      "Peru\n",
      "Philippines\n",
      "Poland\n",
      "Portugal\n",
      "Qatar\n",
      "Romania\n",
      "Russia\n",
      "Rwanda\n",
      "Saint Kitts and Nevis\n",
      "Saint Lucia\n",
      "Saint Vincent and the Grenadines\n",
      "Samoa\n",
      "San Marino\n",
      "Sao Tome and Principe\n",
      "Saudi Arabia\n",
      "Senegal\n",
      "Serbia\n",
      "Seychelles\n",
      "Sierra Leone\n",
      "Singapore\n",
      "Slovakia\n",
      "Slovenia\n",
      "Solomon Islands\n",
      "Somalia\n",
      "South Africa\n",
      "South Sudan\n",
      "Spain\n",
      "Sri Lanka\n",
      "Sudan\n",
      "Summer Olympics 2020\n",
      "Suriname\n",
      "Sweden\n",
      "Switzerland\n",
      "Syria\n",
      "Taiwan*\n",
      "Tajikistan\n",
      "Tanzania\n",
      "Thailand\n",
      "Timor-Leste\n",
      "Togo\n",
      "Tonga\n",
      "Trinidad and Tobago\n",
      "Tunisia\n",
      "Turkey\n",
      "Tuvalu\n",
      "US\n",
      "Uganda\n",
      "Ukraine\n",
      "United Arab Emirates\n",
      "United Kingdom\n",
      "United Kingdom\n",
      "United Kingdom\n",
      "United Kingdom\n",
      "United Kingdom\n",
      "United Kingdom\n",
      "United Kingdom\n",
      "United Kingdom\n",
      "United Kingdom\n",
      "United Kingdom\n",
      "United Kingdom\n",
      "United Kingdom\n",
      "United Kingdom\n",
      "United Kingdom\n",
      "United Kingdom\n",
      "Uruguay\n",
      "Uzbekistan\n",
      "Vanuatu\n",
      "Venezuela\n",
      "Vietnam\n",
      "West Bank and Gaza\n",
      "Winter Olympics 2022\n",
      "Yemen\n",
      "Zambia\n",
      "Zimbabwe\n"
     ]
    }
   ],
   "source": [
    "for i in df[\"Country/Region\"]:\n",
    "    print(i)"
   ]
  },
  {
   "cell_type": "code",
   "execution_count": 44,
   "id": "35f8ad472144fe7e",
   "metadata": {
    "ExecuteTime": {
     "end_time": "2024-02-06T06:51:26.775800575Z",
     "start_time": "2024-02-06T06:51:26.663407180Z"
    }
   },
   "outputs": [],
   "source": [
    "afghan = w_df[w_df[\"Country/Region\"] == \"Afghanistan\"]\n",
    "afghan = afghan.T"
   ]
  },
  {
   "cell_type": "code",
   "execution_count": 45,
   "id": "437dfcaeb50382b4",
   "metadata": {
    "ExecuteTime": {
     "end_time": "2024-02-06T07:01:19.655448884Z",
     "start_time": "2024-02-06T07:01:19.496603116Z"
    }
   },
   "outputs": [],
   "source": [
    "afghan.reset_index(inplace=True)"
   ]
  },
  {
   "cell_type": "code",
   "execution_count": 46,
   "id": "f6d3699e37eaa196",
   "metadata": {
    "ExecuteTime": {
     "end_time": "2024-02-06T07:01:27.205298416Z",
     "start_time": "2024-02-06T07:01:27.012591952Z"
    }
   },
   "outputs": [
    {
     "data": {
      "text/html": [
       "<div>\n",
       "<style scoped>\n",
       "    .dataframe tbody tr th:only-of-type {\n",
       "        vertical-align: middle;\n",
       "    }\n",
       "\n",
       "    .dataframe tbody tr th {\n",
       "        vertical-align: top;\n",
       "    }\n",
       "\n",
       "    .dataframe thead th {\n",
       "        text-align: right;\n",
       "    }\n",
       "</style>\n",
       "<table border=\"1\" class=\"dataframe\">\n",
       "  <thead>\n",
       "    <tr style=\"text-align: right;\">\n",
       "      <th></th>\n",
       "      <th>index</th>\n",
       "      <th>0</th>\n",
       "    </tr>\n",
       "  </thead>\n",
       "  <tbody>\n",
       "    <tr>\n",
       "      <th>0</th>\n",
       "      <td>Country/Region</td>\n",
       "      <td>Afghanistan</td>\n",
       "    </tr>\n",
       "    <tr>\n",
       "      <th>1</th>\n",
       "      <td>1/22/2020</td>\n",
       "      <td>0</td>\n",
       "    </tr>\n",
       "    <tr>\n",
       "      <th>2</th>\n",
       "      <td>1/23/2020</td>\n",
       "      <td>0</td>\n",
       "    </tr>\n",
       "    <tr>\n",
       "      <th>3</th>\n",
       "      <td>1/24/2020</td>\n",
       "      <td>0</td>\n",
       "    </tr>\n",
       "    <tr>\n",
       "      <th>4</th>\n",
       "      <td>1/25/2020</td>\n",
       "      <td>0</td>\n",
       "    </tr>\n",
       "  </tbody>\n",
       "</table>\n",
       "</div>"
      ],
      "text/plain": [
       "            index            0\n",
       "0  Country/Region  Afghanistan\n",
       "1       1/22/2020            0\n",
       "2       1/23/2020            0\n",
       "3       1/24/2020            0\n",
       "4       1/25/2020            0"
      ]
     },
     "execution_count": 46,
     "metadata": {},
     "output_type": "execute_result"
    }
   ],
   "source": [
    "afghan.head()"
   ]
  },
  {
   "cell_type": "code",
   "execution_count": 47,
   "id": "636e4dc0c1dc0a95",
   "metadata": {},
   "outputs": [],
   "source": [
    "df.columns = df.iloc[0]"
   ]
  },
  {
   "cell_type": "code",
   "execution_count": 48,
   "id": "504ff4819928f120",
   "metadata": {
    "ExecuteTime": {
     "end_time": "2024-02-06T07:02:19.124211653Z",
     "start_time": "2024-02-06T07:02:19.111949220Z"
    }
   },
   "outputs": [],
   "source": [
    "afghan.rename(columns={\"index\": \"Date\", \"Afghanistan\":\"Infections\"}, inplace=True)"
   ]
  },
  {
   "cell_type": "code",
   "execution_count": 49,
   "id": "9088d7a09f0c27da",
   "metadata": {
    "ExecuteTime": {
     "end_time": "2024-02-06T07:01:51.413655537Z",
     "start_time": "2024-02-06T07:01:51.308522733Z"
    }
   },
   "outputs": [],
   "source": [
    "afghan = afghan[1:]"
   ]
  },
  {
   "cell_type": "code",
   "execution_count": 50,
   "id": "b3ef6620b2368bb7",
   "metadata": {
    "ExecuteTime": {
     "end_time": "2024-02-06T07:02:06.891604977Z",
     "start_time": "2024-02-06T07:02:06.847318410Z"
    }
   },
   "outputs": [
    {
     "data": {
      "text/plain": [
       "Index(['Date', 0], dtype='object')"
      ]
     },
     "execution_count": 50,
     "metadata": {},
     "output_type": "execute_result"
    }
   ],
   "source": [
    "afghan.columns"
   ]
  },
  {
   "cell_type": "code",
   "execution_count": 55,
   "id": "14ebaea4069a22b8",
   "metadata": {
    "ExecuteTime": {
     "end_time": "2024-02-06T07:02:31.810655973Z",
     "start_time": "2024-02-06T07:02:31.763066889Z"
    }
   },
   "outputs": [],
   "source": [
    "afghan.rename(columns={\"index\": \"Date\", 0:\"Infections\"}, inplace=True)"
   ]
  },
  {
   "cell_type": "code",
   "execution_count": 56,
   "id": "c04ca2122fe1ae1d",
   "metadata": {
    "ExecuteTime": {
     "end_time": "2024-02-06T07:02:35.085633479Z",
     "start_time": "2024-02-06T07:02:34.960539395Z"
    }
   },
   "outputs": [
    {
     "name": "stdout",
     "output_type": "stream",
     "text": [
      "<class 'pandas.core.frame.DataFrame'>\n",
      "RangeIndex: 1143 entries, 1 to 1143\n",
      "Data columns (total 2 columns):\n",
      " #   Column      Non-Null Count  Dtype \n",
      "---  ------      --------------  ----- \n",
      " 0   Date        1143 non-null   object\n",
      " 1   Infections  1143 non-null   object\n",
      "dtypes: object(2)\n",
      "memory usage: 18.0+ KB\n"
     ]
    }
   ],
   "source": [
    "afghan.info()"
   ]
  },
  {
   "cell_type": "code",
   "execution_count": 57,
   "id": "33f3d01b515d24f4",
   "metadata": {
    "ExecuteTime": {
     "end_time": "2024-02-06T07:02:38.899382601Z",
     "start_time": "2024-02-06T07:02:38.815065401Z"
    }
   },
   "outputs": [],
   "source": [
    "afghan[\"Infections\"] = afghan[\"Infections\"].astype(\"int\")"
   ]
  },
  {
   "cell_type": "code",
   "execution_count": 58,
   "id": "b3dbe8c4762ab918",
   "metadata": {
    "ExecuteTime": {
     "end_time": "2024-02-06T07:02:56.809748941Z",
     "start_time": "2024-02-06T07:02:56.800993929Z"
    }
   },
   "outputs": [],
   "source": [
    "afghan[\"Date\"] = pd.to_datetime(afghan[\"Date\"])"
   ]
  },
  {
   "cell_type": "code",
   "execution_count": 59,
   "id": "1daf9c7dffc21064",
   "metadata": {
    "ExecuteTime": {
     "end_time": "2024-02-06T07:03:06.889110449Z",
     "start_time": "2024-02-06T07:03:06.809715015Z"
    }
   },
   "outputs": [
    {
     "name": "stdout",
     "output_type": "stream",
     "text": [
      "<class 'pandas.core.frame.DataFrame'>\n",
      "RangeIndex: 1143 entries, 1 to 1143\n",
      "Data columns (total 2 columns):\n",
      " #   Column      Non-Null Count  Dtype         \n",
      "---  ------      --------------  -----         \n",
      " 0   Date        1143 non-null   datetime64[ns]\n",
      " 1   Infections  1143 non-null   int64         \n",
      "dtypes: datetime64[ns](1), int64(1)\n",
      "memory usage: 18.0 KB\n"
     ]
    }
   ],
   "source": [
    "afghan.info()"
   ]
  },
  {
   "cell_type": "code",
   "execution_count": 60,
   "id": "1a07b7fd02d6cccf",
   "metadata": {
    "ExecuteTime": {
     "end_time": "2024-02-05T13:49:29.142871007Z",
     "start_time": "2024-02-05T13:49:29.028957172Z"
    }
   },
   "outputs": [],
   "source": [
    "# afghan.to_csv(\"afghan.csv\")"
   ]
  },
  {
   "cell_type": "code",
   "execution_count": 61,
   "id": "65d9af2b45b58517",
   "metadata": {
    "ExecuteTime": {
     "end_time": "2024-02-06T07:03:24.906458222Z",
     "start_time": "2024-02-06T07:03:24.873239498Z"
    }
   },
   "outputs": [
    {
     "data": {
      "text/html": [
       "<div>\n",
       "<style scoped>\n",
       "    .dataframe tbody tr th:only-of-type {\n",
       "        vertical-align: middle;\n",
       "    }\n",
       "\n",
       "    .dataframe tbody tr th {\n",
       "        vertical-align: top;\n",
       "    }\n",
       "\n",
       "    .dataframe thead th {\n",
       "        text-align: right;\n",
       "    }\n",
       "</style>\n",
       "<table border=\"1\" class=\"dataframe\">\n",
       "  <thead>\n",
       "    <tr style=\"text-align: right;\">\n",
       "      <th></th>\n",
       "      <th>Date</th>\n",
       "      <th>Infections</th>\n",
       "    </tr>\n",
       "  </thead>\n",
       "  <tbody>\n",
       "    <tr>\n",
       "      <th>1</th>\n",
       "      <td>2020-01-22</td>\n",
       "      <td>0</td>\n",
       "    </tr>\n",
       "    <tr>\n",
       "      <th>2</th>\n",
       "      <td>2020-01-23</td>\n",
       "      <td>0</td>\n",
       "    </tr>\n",
       "    <tr>\n",
       "      <th>3</th>\n",
       "      <td>2020-01-24</td>\n",
       "      <td>0</td>\n",
       "    </tr>\n",
       "    <tr>\n",
       "      <th>4</th>\n",
       "      <td>2020-01-25</td>\n",
       "      <td>0</td>\n",
       "    </tr>\n",
       "    <tr>\n",
       "      <th>5</th>\n",
       "      <td>2020-01-26</td>\n",
       "      <td>0</td>\n",
       "    </tr>\n",
       "  </tbody>\n",
       "</table>\n",
       "</div>"
      ],
      "text/plain": [
       "        Date  Infections\n",
       "1 2020-01-22           0\n",
       "2 2020-01-23           0\n",
       "3 2020-01-24           0\n",
       "4 2020-01-25           0\n",
       "5 2020-01-26           0"
      ]
     },
     "execution_count": 61,
     "metadata": {},
     "output_type": "execute_result"
    }
   ],
   "source": [
    "afghan.head()"
   ]
  },
  {
   "cell_type": "code",
   "execution_count": 62,
   "id": "ec8513a971844ef8",
   "metadata": {
    "ExecuteTime": {
     "end_time": "2024-02-06T07:19:42.902666863Z",
     "start_time": "2024-02-06T07:19:42.789976588Z"
    }
   },
   "outputs": [
    {
     "data": {
      "text/plain": [
       "Index(['Date', 'Infections'], dtype='object')"
      ]
     },
     "execution_count": 62,
     "metadata": {},
     "output_type": "execute_result"
    }
   ],
   "source": [
    "afghan.columns"
   ]
  },
  {
   "cell_type": "code",
   "execution_count": 67,
   "id": "746a4688a6fe6106",
   "metadata": {},
   "outputs": [],
   "source": [
    "afghan.drop(afghan[afghan[\"Infections\"] == 0].index, inplace=True)"
   ]
  },
  {
   "cell_type": "code",
   "execution_count": 76,
   "id": "abf877bf",
   "metadata": {},
   "outputs": [],
   "source": [
    "afghan.index = afghan.index.tz_localize(\"UTC\")"
   ]
  },
  {
   "cell_type": "code",
   "execution_count": 71,
   "id": "a4830d0a",
   "metadata": {},
   "outputs": [],
   "source": [
    "afghan.set_index(\"Date\", inplace=True)"
   ]
  },
  {
   "cell_type": "code",
   "execution_count": null,
   "id": "b6055889",
   "metadata": {},
   "outputs": [],
   "source": [
    "afghan."
   ]
  },
  {
   "cell_type": "code",
   "execution_count": 77,
   "id": "66bd5155",
   "metadata": {},
   "outputs": [],
   "source": [
    "afgan = afghan[\"Infections\"].resample(\"7D\").mean().fillna(method=\"ffill\").to_frame()"
   ]
  },
  {
   "cell_type": "code",
   "execution_count": 79,
   "id": "296e8816",
   "metadata": {},
   "outputs": [
    {
     "data": {
      "text/plain": [
       "<Axes: xlabel='Date'>"
      ]
     },
     "execution_count": 79,
     "metadata": {},
     "output_type": "execute_result"
    },
    {
     "data": {
      "image/png": "[encoded data removed]",
      "text/plain": [
       "<Figure size 640x480 with 1 Axes>"
      ]
     },
     "metadata": {},
     "output_type": "display_data"
    }
   ],
   "source": [
    "afghan.plot()"
   ]
  },
  {
   "cell_type": "code",
   "execution_count": 81,
   "id": "e9730f8a",
   "metadata": {},
   "outputs": [
    {
     "ename": "AttributeError",
     "evalue": "'DatetimeIndex' object has no attribute 'dt'",
     "output_type": "error",
     "traceback": [
      "\u001b[0;31m---------------------------------------------------------------------------\u001b[0m",
      "\u001b[0;31mAttributeError\u001b[0m                            Traceback (most recent call last)",
      "Cell \u001b[0;32mIn[81], line 1\u001b[0m\n\u001b[0;32m----> 1\u001b[0m jan_df \u001b[38;5;241m=\u001b[39m afghan[afghan\u001b[38;5;241m.\u001b[39mindex\u001b[38;5;241m.\u001b[39mdt\u001b[38;5;241m.\u001b[39mstrftime(\u001b[38;5;124m\"\u001b[39m\u001b[38;5;124m%\u001b[39m\u001b[38;5;124mB\u001b[39m\u001b[38;5;124m\"\u001b[39m)\u001b[38;5;241m==\u001b[39m \u001b[38;5;124m\"\u001b[39m\u001b[38;5;124mJanuary\u001b[39m\u001b[38;5;124m\"\u001b[39m]\n",
      "\u001b[0;31mAttributeError\u001b[0m: 'DatetimeIndex' object has no attribute 'dt'"
     ]
    }
   ],
   "source": []
  },
  {
   "cell_type": "code",
   "execution_count": null,
   "id": "db09f314",
   "metadata": {},
   "outputs": [],
   "source": []
  }
 ],
 "metadata": {
  "kernelspec": {
   "display_name": "Python 3 (ipykernel)",
   "language": "python",
   "name": "python3"
  },
  "language_info": {
   "codemirror_mode": {
    "name": "ipython",
    "version": 3
   },
   "file_extension": ".py",
   "mimetype": "text/x-python",
   "name": "python",
   "nbconvert_exporter": "python",
   "pygments_lexer": "ipython3",
   "version": "3.11.5"
  }
 },
 "nbformat": 4,
 "nbformat_minor": 5
}
